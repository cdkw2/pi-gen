{
 "cells": [
  {
   "cell_type": "code",
   "execution_count": 18,
   "id": "efficient-binary",
   "metadata": {},
   "outputs": [
    {
     "name": "stdout",
     "output_type": "stream",
     "text": [
      "... 1 ..."
     ]
    },
    {
     "ename": "KeyboardInterrupt",
     "evalue": "",
     "output_type": "error",
     "traceback": [
      "\u001b[0;31m---------------------------------------------------------------------------\u001b[0m",
      "\u001b[0;31mKeyboardInterrupt\u001b[0m                         Traceback (most recent call last)",
      "\u001b[0;32m<ipython-input-18-121bfa095602>\u001b[0m in \u001b[0;36m<module>\u001b[0;34m\u001b[0m\n\u001b[1;32m     67\u001b[0m \u001b[0;34m\u001b[0m\u001b[0m\n\u001b[1;32m     68\u001b[0m \u001b[0mpi_digits\u001b[0m \u001b[0;34m=\u001b[0m \u001b[0mcalculate_pi\u001b[0m\u001b[0;34m(\u001b[0m\u001b[0;34m)\u001b[0m\u001b[0;34m\u001b[0m\u001b[0;34m\u001b[0m\u001b[0m\n\u001b[0;32m---> 69\u001b[0;31m \u001b[0mdisplay_realtime_pi\u001b[0m\u001b[0;34m(\u001b[0m\u001b[0mpi_digits\u001b[0m\u001b[0;34m)\u001b[0m\u001b[0;34m\u001b[0m\u001b[0;34m\u001b[0m\u001b[0m\n\u001b[0m\u001b[1;32m     70\u001b[0m \u001b[0;34m\u001b[0m\u001b[0m\n\u001b[1;32m     71\u001b[0m \u001b[0;31m########## Best code yet!!!!\u001b[0m\u001b[0;34m\u001b[0m\u001b[0;34m\u001b[0m\u001b[0;34m\u001b[0m\u001b[0m\n",
      "\u001b[0;32m<ipython-input-18-121bfa095602>\u001b[0m in \u001b[0;36mdisplay_realtime_pi\u001b[0;34m(pi_digits)\u001b[0m\n\u001b[1;32m     64\u001b[0m             \u001b[0mfun_9\u001b[0m\u001b[0;34m(\u001b[0m\u001b[0;34m)\u001b[0m\u001b[0;34m\u001b[0m\u001b[0;34m\u001b[0m\u001b[0m\n\u001b[1;32m     65\u001b[0m         \u001b[0midx\u001b[0m \u001b[0;34m=\u001b[0m \u001b[0;34m(\u001b[0m\u001b[0midx\u001b[0m \u001b[0;34m+\u001b[0m \u001b[0;36m1\u001b[0m\u001b[0;34m)\u001b[0m \u001b[0;34m%\u001b[0m \u001b[0mlen\u001b[0m\u001b[0;34m(\u001b[0m\u001b[0mpi_digits\u001b[0m\u001b[0;34m)\u001b[0m\u001b[0;34m\u001b[0m\u001b[0;34m\u001b[0m\u001b[0m\n\u001b[0;32m---> 66\u001b[0;31m         \u001b[0mtime\u001b[0m\u001b[0;34m.\u001b[0m\u001b[0msleep\u001b[0m\u001b[0;34m(\u001b[0m\u001b[0;36m4\u001b[0m\u001b[0;34m)\u001b[0m\u001b[0;34m\u001b[0m\u001b[0;34m\u001b[0m\u001b[0m\n\u001b[0m\u001b[1;32m     67\u001b[0m \u001b[0;34m\u001b[0m\u001b[0m\n\u001b[1;32m     68\u001b[0m \u001b[0mpi_digits\u001b[0m \u001b[0;34m=\u001b[0m \u001b[0mcalculate_pi\u001b[0m\u001b[0;34m(\u001b[0m\u001b[0;34m)\u001b[0m\u001b[0;34m\u001b[0m\u001b[0;34m\u001b[0m\u001b[0m\n",
      "\u001b[0;31mKeyboardInterrupt\u001b[0m: "
     ]
    }
   ],
   "source": [
    "import time\n",
    "from mpmath import mp\n",
    "import pyautogui\n",
    "\n",
    "def calculate_pi():\n",
    "    mp.dps = 9999  # Precision\n",
    "    pi_str = str(mp.pi)[2:]  # Remove the 3. prefix from pi string\n",
    "    return pi_str\n",
    "\n",
    "def fun_0():\n",
    "    pyautogui.moveTo(100, 100)\n",
    "\n",
    "def fun_1():\n",
    "    pyautogui.moveTo(200, 200)\n",
    "\n",
    "def fun_2():\n",
    "    pyautogui.moveTo(300, 300)\n",
    "\n",
    "def fun_3():\n",
    "    pyautogui.moveTo(400, 400)\n",
    "\n",
    "def fun_4():\n",
    "    pyautogui.moveTo(500, 500)\n",
    "\n",
    "def fun_5():\n",
    "    pyautogui.moveTo(600, 600)\n",
    "\n",
    "def fun_6():\n",
    "    pyautogui.moveTo(700, 700)\n",
    "\n",
    "def fun_7():\n",
    "    pyautogui.moveTo(800, 800)\n",
    "\n",
    "def fun_8():\n",
    "    pyautogui.moveTo(900, 900)\n",
    "\n",
    "def fun_9():\n",
    "    pyautogui.moveTo(1000, 1000)\n",
    "\n",
    "def display_realtime_pi(pi_digits):\n",
    "    idx = 0\n",
    "    try:\n",
    "        while True:\n",
    "            digit = pi_digits[idx]\n",
    "            print(f\"\\r... {digit} ...\", end=\"\")\n",
    "            if digit == \"0\":\n",
    "                fun_0()\n",
    "            elif digit == \"1\":\n",
    "                fun_1()\n",
    "            elif digit == \"2\":\n",
    "                fun_2()\n",
    "            elif digit == \"3\":\n",
    "                fun_3()\n",
    "            elif digit == \"4\":\n",
    "                fun_4()\n",
    "            elif digit == \"5\":\n",
    "                fun_5()\n",
    "            elif digit == \"6\":\n",
    "                fun_6()\n",
    "            elif digit == \"7\":\n",
    "                fun_7()\n",
    "            elif digit == \"8\":\n",
    "                fun_8()\n",
    "            elif digit == \"9\":\n",
    "                fun_9()\n",
    "            idx = (idx + 1) % len(pi_digits)\n",
    "            time.sleep(4)\n",
    "    except KeyboardInterrupt:\n",
    "        pass\n",
    "\n",
    "pi_digits = calculate_pi()\n",
    "display_realtime_pi(pi_digits)\n"
   ]
  },
  {
   "cell_type": "code",
   "execution_count": 2,
   "id": "civil-excuse",
   "metadata": {},
   "outputs": [
    {
     "name": "stdout",
     "output_type": "stream",
     "text": [
      "1 |4 |1 |5 |9 |2 |6\n",
      "         ^\n",
      "4 |1 |5 |9 |2 |6 |5\n",
      "         ^\n",
      "1 |5 |9 |2 |6 |5 |3\n",
      "         ^\n",
      "5 |9 |2 |6 |5 |3 |5\n",
      "         ^\n",
      "9 |2 |6 |5 |3 |5 |8\n",
      "         ^\n",
      "2 |6 |5 |3 |5 |8 |9\n",
      "         ^\n",
      "6 |5 |3 |5 |8 |9 |7\n",
      "         ^\n",
      "5 |3 |5 |8 |9 |7 |9\n",
      "         ^\n",
      "3 |5 |8 |9 |7 |9 |3\n",
      "         ^\n"
     ]
    },
    {
     "ename": "KeyboardInterrupt",
     "evalue": "",
     "output_type": "error",
     "traceback": [
      "\u001b[0;31m---------------------------------------------------------------------------\u001b[0m",
      "\u001b[0;31mKeyboardInterrupt\u001b[0m                         Traceback (most recent call last)",
      "\u001b[0;32m<ipython-input-2-58bd112e6996>\u001b[0m in \u001b[0;36m<module>\u001b[0;34m\u001b[0m\n\u001b[1;32m     28\u001b[0m \u001b[0;34m\u001b[0m\u001b[0m\n\u001b[1;32m     29\u001b[0m \u001b[0;31m# 7 digits of pi every 0.5 second\u001b[0m\u001b[0;34m\u001b[0m\u001b[0;34m\u001b[0m\u001b[0;34m\u001b[0m\u001b[0m\n\u001b[0;32m---> 30\u001b[0;31m \u001b[0mprint_realtime_pi\u001b[0m\u001b[0;34m(\u001b[0m\u001b[0;36m7\u001b[0m\u001b[0;34m,\u001b[0m \u001b[0;36m0.5\u001b[0m\u001b[0;34m)\u001b[0m\u001b[0;34m\u001b[0m\u001b[0;34m\u001b[0m\u001b[0m\n\u001b[0m",
      "\u001b[0;32m<ipython-input-2-58bd112e6996>\u001b[0m in \u001b[0;36mprint_realtime_pi\u001b[0;34m(num_digits, update_interval)\u001b[0m\n\u001b[1;32m     25\u001b[0m \u001b[0;34m\u001b[0m\u001b[0m\n\u001b[1;32m     26\u001b[0m         \u001b[0;31m# Time in between new digits\u001b[0m\u001b[0;34m\u001b[0m\u001b[0;34m\u001b[0m\u001b[0;34m\u001b[0m\u001b[0m\n\u001b[0;32m---> 27\u001b[0;31m         \u001b[0mtime\u001b[0m\u001b[0;34m.\u001b[0m\u001b[0msleep\u001b[0m\u001b[0;34m(\u001b[0m\u001b[0mupdate_interval\u001b[0m\u001b[0;34m)\u001b[0m\u001b[0;34m\u001b[0m\u001b[0;34m\u001b[0m\u001b[0m\n\u001b[0m\u001b[1;32m     28\u001b[0m \u001b[0;34m\u001b[0m\u001b[0m\n\u001b[1;32m     29\u001b[0m \u001b[0;31m# 7 digits of pi every 0.5 second\u001b[0m\u001b[0;34m\u001b[0m\u001b[0;34m\u001b[0m\u001b[0;34m\u001b[0m\u001b[0m\n",
      "\u001b[0;31mKeyboardInterrupt\u001b[0m: "
     ]
    }
   ],
   "source": [
    "import mpmath\n",
    "import time\n",
    "\n",
    "def generate_pi_digits():\n",
    "    mpmath.mp.dps = 9999  # Precission\n",
    "    pi_str = str(mpmath.pi)\n",
    "    pi_digits = [int(digit) for digit in pi_str[2:]]  # Convert to an integer and remove the 3. from pi string\n",
    "    return pi_digits\n",
    "\n",
    "def print_realtime_pi(num_digits, update_interval):\n",
    "    pi_digits = generate_pi_digits()\n",
    "    pointer_position = 0\n",
    "    left_padding = \" \" * (3 * (num_digits // 2))  # Google code\n",
    "\n",
    "    while True:\n",
    "        # Prepare the line to print\n",
    "        line = \" |\".join(str(digit) for digit in pi_digits[pointer_position:pointer_position + num_digits])\n",
    "        pointer = left_padding + \"^\"  # Pointer\n",
    "\n",
    "        # Clear the previous line and print the new line with the pointer\n",
    "        print(\"\\r\" + line + \"\\n\" + pointer) #Doesn't work LOL!\n",
    "\n",
    "        # Update pointer position\n",
    "        pointer_position = (pointer_position + 1) % len(pi_digits)\n",
    "\n",
    "        # Time in between new digits\n",
    "        time.sleep(update_interval)\n",
    "\n",
    "# 7 digits of pi every 0.5 second\n",
    "print_realtime_pi(7, 0.5)"
   ]
  },
  {
   "cell_type": "code",
   "execution_count": 12,
   "id": "great-stockholm",
   "metadata": {},
   "outputs": [
    {
     "name": "stdout",
     "output_type": "stream",
     "text": [
      "... 4 ...    It's a 4         "
     ]
    },
    {
     "ename": "KeyboardInterrupt",
     "evalue": "",
     "output_type": "error",
     "traceback": [
      "\u001b[0;31m---------------------------------------------------------------------------\u001b[0m",
      "\u001b[0;31mKeyboardInterrupt\u001b[0m                         Traceback (most recent call last)",
      "\u001b[0;32m<ipython-input-12-b4c5c1f4616b>\u001b[0m in \u001b[0;36m<module>\u001b[0;34m\u001b[0m\n\u001b[1;32m     31\u001b[0m \u001b[0;34m\u001b[0m\u001b[0m\n\u001b[1;32m     32\u001b[0m \u001b[0mpi_digits\u001b[0m \u001b[0;34m=\u001b[0m \u001b[0mcalculate_pi\u001b[0m\u001b[0;34m(\u001b[0m\u001b[0;34m)\u001b[0m\u001b[0;34m\u001b[0m\u001b[0;34m\u001b[0m\u001b[0m\n\u001b[0;32m---> 33\u001b[0;31m \u001b[0mdisplay_realtime_pi\u001b[0m\u001b[0;34m(\u001b[0m\u001b[0mpi_digits\u001b[0m\u001b[0;34m)\u001b[0m\u001b[0;34m\u001b[0m\u001b[0;34m\u001b[0m\u001b[0m\n\u001b[0m",
      "\u001b[0;32m<ipython-input-12-b4c5c1f4616b>\u001b[0m in \u001b[0;36mdisplay_realtime_pi\u001b[0;34m(pi_digits)\u001b[0m\n\u001b[1;32m     28\u001b[0m         \u001b[0mprint\u001b[0m\u001b[0;34m(\u001b[0m\u001b[0mmessage\u001b[0m \u001b[0;34m+\u001b[0m \u001b[0;34m\"        \"\u001b[0m\u001b[0;34m,\u001b[0m \u001b[0mend\u001b[0m\u001b[0;34m=\u001b[0m\u001b[0;34m\"\"\u001b[0m\u001b[0;34m)\u001b[0m\u001b[0;34m\u001b[0m\u001b[0;34m\u001b[0m\u001b[0m\n\u001b[1;32m     29\u001b[0m         \u001b[0midx\u001b[0m \u001b[0;34m=\u001b[0m \u001b[0;34m(\u001b[0m\u001b[0midx\u001b[0m \u001b[0;34m+\u001b[0m \u001b[0;36m1\u001b[0m\u001b[0;34m)\u001b[0m \u001b[0;34m%\u001b[0m \u001b[0mlen\u001b[0m\u001b[0;34m(\u001b[0m\u001b[0mpi_digits\u001b[0m\u001b[0;34m)\u001b[0m\u001b[0;34m\u001b[0m\u001b[0;34m\u001b[0m\u001b[0m\n\u001b[0;32m---> 30\u001b[0;31m         \u001b[0mtime\u001b[0m\u001b[0;34m.\u001b[0m\u001b[0msleep\u001b[0m\u001b[0;34m(\u001b[0m\u001b[0;36m1.5\u001b[0m\u001b[0;34m)\u001b[0m\u001b[0;34m\u001b[0m\u001b[0;34m\u001b[0m\u001b[0m\n\u001b[0m\u001b[1;32m     31\u001b[0m \u001b[0;34m\u001b[0m\u001b[0m\n\u001b[1;32m     32\u001b[0m \u001b[0mpi_digits\u001b[0m \u001b[0;34m=\u001b[0m \u001b[0mcalculate_pi\u001b[0m\u001b[0;34m(\u001b[0m\u001b[0;34m)\u001b[0m\u001b[0;34m\u001b[0m\u001b[0;34m\u001b[0m\u001b[0m\n",
      "\u001b[0;31mKeyboardInterrupt\u001b[0m: "
     ]
    }
   ],
   "source": [
    "import time\n",
    "from mpmath import mp\n",
    "\n",
    "def calculate_pi():\n",
    "    mp.dps = 9999  # Precision\n",
    "    pi_str = str(mp.pi)[2:]  # Remove the 3. prefix from pi string\n",
    "    return pi_str\n",
    "\n",
    "def display_realtime_pi(pi_digits):\n",
    "    idx = 0\n",
    "    digit_messages = {\n",
    "        \"0\": \"It's a 0\",\n",
    "        \"1\": \"It's a 1\",\n",
    "        \"2\": \"It's a 2\",\n",
    "        \"3\": \"It's a 3\",\n",
    "        \"4\": \"It's a 4\",\n",
    "        \"5\": \"It's a 5\",\n",
    "        \"6\": \"It's a 6\",\n",
    "        \"7\": \"It's a 7\",\n",
    "        \"8\": \"It's an 8\",\n",
    "        \"9\": \"It's a 9\"\n",
    "    }\n",
    "    while True:\n",
    "        digit = pi_digits[idx]\n",
    "        message = f\"\\r... {digit} ...\"\n",
    "        if digit in digit_messages:\n",
    "            message += f\"    {digit_messages[digit]}\"\n",
    "        print(message + \"        \", end=\"\")\n",
    "        idx = (idx + 1) % len(pi_digits)\n",
    "        time.sleep(1.5)\n",
    "\n",
    "pi_digits = calculate_pi()\n",
    "display_realtime_pi(pi_digits)"
   ]
  }
 ],
 "metadata": {
  "kernelspec": {
   "display_name": "Python 3",
   "language": "python",
   "name": "python3"
  },
  "language_info": {
   "codemirror_mode": {
    "name": "ipython",
    "version": 3
   },
   "file_extension": ".py",
   "mimetype": "text/x-python",
   "name": "python",
   "nbconvert_exporter": "python",
   "pygments_lexer": "ipython3",
   "version": "3.9.2"
  }
 },
 "nbformat": 4,
 "nbformat_minor": 5
}
