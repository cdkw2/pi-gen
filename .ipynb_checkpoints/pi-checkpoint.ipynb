{
 "cells": [
  {
   "cell_type": "code",
   "execution_count": 23,
   "id": "better-earthquake",
   "metadata": {},
   "outputs": [
    {
     "name": "stdout",
     "output_type": "stream",
     "text": [
      "... 5 ..."
     ]
    },
    {
     "ename": "KeyboardInterrupt",
     "evalue": "",
     "output_type": "error",
     "traceback": [
      "\u001b[0;31m---------------------------------------------------------------------------\u001b[0m",
      "\u001b[0;31mKeyboardInterrupt\u001b[0m                         Traceback (most recent call last)",
      "\u001b[0;32m<ipython-input-23-006475589c15>\u001b[0m in \u001b[0;36m<module>\u001b[0;34m\u001b[0m\n\u001b[1;32m     15\u001b[0m \u001b[0;34m\u001b[0m\u001b[0m\n\u001b[1;32m     16\u001b[0m \u001b[0mpi_digits\u001b[0m \u001b[0;34m=\u001b[0m \u001b[0mcalculate_pi\u001b[0m\u001b[0;34m(\u001b[0m\u001b[0;34m)\u001b[0m\u001b[0;34m\u001b[0m\u001b[0;34m\u001b[0m\u001b[0m\n\u001b[0;32m---> 17\u001b[0;31m \u001b[0mdisplay_realtime_pi\u001b[0m\u001b[0;34m(\u001b[0m\u001b[0mpi_digits\u001b[0m\u001b[0;34m)\u001b[0m\u001b[0;34m\u001b[0m\u001b[0;34m\u001b[0m\u001b[0m\n\u001b[0m",
      "\u001b[0;32m<ipython-input-23-006475589c15>\u001b[0m in \u001b[0;36mdisplay_realtime_pi\u001b[0;34m(pi_digits)\u001b[0m\n\u001b[1;32m     12\u001b[0m         \u001b[0mprint\u001b[0m\u001b[0;34m(\u001b[0m\u001b[0;34mf\"\\r... {pi_digits[idx]} ...\"\u001b[0m\u001b[0;34m,\u001b[0m \u001b[0mend\u001b[0m\u001b[0;34m=\u001b[0m\u001b[0;34m\"\"\u001b[0m\u001b[0;34m)\u001b[0m\u001b[0;34m\u001b[0m\u001b[0;34m\u001b[0m\u001b[0m\n\u001b[1;32m     13\u001b[0m         \u001b[0midx\u001b[0m \u001b[0;34m=\u001b[0m \u001b[0;34m(\u001b[0m\u001b[0midx\u001b[0m \u001b[0;34m+\u001b[0m \u001b[0;36m1\u001b[0m\u001b[0;34m)\u001b[0m \u001b[0;34m%\u001b[0m \u001b[0mlen\u001b[0m\u001b[0;34m(\u001b[0m\u001b[0mpi_digits\u001b[0m\u001b[0;34m)\u001b[0m\u001b[0;34m\u001b[0m\u001b[0;34m\u001b[0m\u001b[0m\n\u001b[0;32m---> 14\u001b[0;31m         \u001b[0mtime\u001b[0m\u001b[0;34m.\u001b[0m\u001b[0msleep\u001b[0m\u001b[0;34m(\u001b[0m\u001b[0;36m1.5\u001b[0m\u001b[0;34m)\u001b[0m\u001b[0;34m\u001b[0m\u001b[0;34m\u001b[0m\u001b[0m\n\u001b[0m\u001b[1;32m     15\u001b[0m \u001b[0;34m\u001b[0m\u001b[0m\n\u001b[1;32m     16\u001b[0m \u001b[0mpi_digits\u001b[0m \u001b[0;34m=\u001b[0m \u001b[0mcalculate_pi\u001b[0m\u001b[0;34m(\u001b[0m\u001b[0;34m)\u001b[0m\u001b[0;34m\u001b[0m\u001b[0;34m\u001b[0m\u001b[0m\n",
      "\u001b[0;31mKeyboardInterrupt\u001b[0m: "
     ]
    }
   ],
   "source": [
    "import time\n",
    "from mpmath import mp\n",
    "\n",
    "def calculate_pi():\n",
    "    mp.dps = 9999  # Precision\n",
    "    pi_str = str(mp.pi)[2:]  # Remove the 3. prefix from pi string\n",
    "    return pi_str\n",
    "\n",
    "def display_realtime_pi(pi_digits):\n",
    "    idx = 0\n",
    "    while True:\n",
    "        print(f\"\\r... {pi_digits[idx]} ...\", end=\"\")\n",
    "        idx = (idx + 1) % len(pi_digits)\n",
    "        time.sleep(1.5)\n",
    "\n",
    "pi_digits = calculate_pi()\n",
    "display_realtime_pi(pi_digits)"
   ]
  },
  {
   "cell_type": "code",
   "execution_count": 2,
   "id": "civil-excuse",
   "metadata": {},
   "outputs": [
    {
     "name": "stdout",
     "output_type": "stream",
     "text": [
      "1 |4 |1 |5 |9 |2 |6\n",
      "         ^\n",
      "4 |1 |5 |9 |2 |6 |5\n",
      "         ^\n",
      "1 |5 |9 |2 |6 |5 |3\n",
      "         ^\n",
      "5 |9 |2 |6 |5 |3 |5\n",
      "         ^\n",
      "9 |2 |6 |5 |3 |5 |8\n",
      "         ^\n",
      "2 |6 |5 |3 |5 |8 |9\n",
      "         ^\n",
      "6 |5 |3 |5 |8 |9 |7\n",
      "         ^\n",
      "5 |3 |5 |8 |9 |7 |9\n",
      "         ^\n",
      "3 |5 |8 |9 |7 |9 |3\n",
      "         ^\n"
     ]
    },
    {
     "ename": "KeyboardInterrupt",
     "evalue": "",
     "output_type": "error",
     "traceback": [
      "\u001b[0;31m---------------------------------------------------------------------------\u001b[0m",
      "\u001b[0;31mKeyboardInterrupt\u001b[0m                         Traceback (most recent call last)",
      "\u001b[0;32m<ipython-input-2-58bd112e6996>\u001b[0m in \u001b[0;36m<module>\u001b[0;34m\u001b[0m\n\u001b[1;32m     28\u001b[0m \u001b[0;34m\u001b[0m\u001b[0m\n\u001b[1;32m     29\u001b[0m \u001b[0;31m# 7 digits of pi every 0.5 second\u001b[0m\u001b[0;34m\u001b[0m\u001b[0;34m\u001b[0m\u001b[0;34m\u001b[0m\u001b[0m\n\u001b[0;32m---> 30\u001b[0;31m \u001b[0mprint_realtime_pi\u001b[0m\u001b[0;34m(\u001b[0m\u001b[0;36m7\u001b[0m\u001b[0;34m,\u001b[0m \u001b[0;36m0.5\u001b[0m\u001b[0;34m)\u001b[0m\u001b[0;34m\u001b[0m\u001b[0;34m\u001b[0m\u001b[0m\n\u001b[0m",
      "\u001b[0;32m<ipython-input-2-58bd112e6996>\u001b[0m in \u001b[0;36mprint_realtime_pi\u001b[0;34m(num_digits, update_interval)\u001b[0m\n\u001b[1;32m     25\u001b[0m \u001b[0;34m\u001b[0m\u001b[0m\n\u001b[1;32m     26\u001b[0m         \u001b[0;31m# Time in between new digits\u001b[0m\u001b[0;34m\u001b[0m\u001b[0;34m\u001b[0m\u001b[0;34m\u001b[0m\u001b[0m\n\u001b[0;32m---> 27\u001b[0;31m         \u001b[0mtime\u001b[0m\u001b[0;34m.\u001b[0m\u001b[0msleep\u001b[0m\u001b[0;34m(\u001b[0m\u001b[0mupdate_interval\u001b[0m\u001b[0;34m)\u001b[0m\u001b[0;34m\u001b[0m\u001b[0;34m\u001b[0m\u001b[0m\n\u001b[0m\u001b[1;32m     28\u001b[0m \u001b[0;34m\u001b[0m\u001b[0m\n\u001b[1;32m     29\u001b[0m \u001b[0;31m# 7 digits of pi every 0.5 second\u001b[0m\u001b[0;34m\u001b[0m\u001b[0;34m\u001b[0m\u001b[0;34m\u001b[0m\u001b[0m\n",
      "\u001b[0;31mKeyboardInterrupt\u001b[0m: "
     ]
    }
   ],
   "source": [
    "import mpmath\n",
    "import time\n",
    "\n",
    "def generate_pi_digits():\n",
    "    mpmath.mp.dps = 9999  # Precission\n",
    "    pi_str = str(mpmath.pi)\n",
    "    pi_digits = [int(digit) for digit in pi_str[2:]]  # Convert to an integer and remove the 3. from pi string\n",
    "    return pi_digits\n",
    "\n",
    "def print_realtime_pi(num_digits, update_interval):\n",
    "    pi_digits = generate_pi_digits()\n",
    "    pointer_position = 0\n",
    "    left_padding = \" \" * (3 * (num_digits // 2))  # Google code\n",
    "\n",
    "    while True:\n",
    "        # Prepare the line to print\n",
    "        line = \" |\".join(str(digit) for digit in pi_digits[pointer_position:pointer_position + num_digits])\n",
    "        pointer = left_padding + \"^\"  # Pointer\n",
    "\n",
    "        # Clear the previous line and print the new line with the pointer\n",
    "        print(\"\\r\" + line + \"\\n\" + pointer) #Doesn't work LOL!\n",
    "\n",
    "        # Update pointer position\n",
    "        pointer_position = (pointer_position + 1) % len(pi_digits)\n",
    "\n",
    "        # Time in between new digits\n",
    "        time.sleep(update_interval)\n",
    "\n",
    "# 7 digits of pi every 0.5 second\n",
    "print_realtime_pi(7, 0.5)"
   ]
  }
 ],
 "metadata": {
  "kernelspec": {
   "display_name": "Python 3",
   "language": "python",
   "name": "python3"
  },
  "language_info": {
   "codemirror_mode": {
    "name": "ipython",
    "version": 3
   },
   "file_extension": ".py",
   "mimetype": "text/x-python",
   "name": "python",
   "nbconvert_exporter": "python",
   "pygments_lexer": "ipython3",
   "version": "3.9.2"
  }
 },
 "nbformat": 4,
 "nbformat_minor": 5
}
